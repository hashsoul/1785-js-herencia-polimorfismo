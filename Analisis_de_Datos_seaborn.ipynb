{
  "nbformat": 4,
  "nbformat_minor": 0,
  "metadata": {
    "colab": {
      "provenance": [],
      "authorship_tag": "ABX9TyPY5UWNIR06sUX/xCLC4bYv",
      "include_colab_link": true
    },
    "kernelspec": {
      "name": "python3",
      "display_name": "Python 3"
    },
    "language_info": {
      "name": "python"
    }
  },
  "cells": [
    {
      "cell_type": "markdown",
      "metadata": {
        "id": "view-in-github",
        "colab_type": "text"
      },
      "source": [
        "<a href=\"https://colab.research.google.com/github/hashsoul/1785-js-herencia-polimorfismo/blob/ProyectoInicial/Analisis_de_Datos_seaborn.ipynb\" target=\"_parent\"><img src=\"https://colab.research.google.com/assets/colab-badge.svg\" alt=\"Open In Colab\"/></a>"
      ]
    },
    {
      "cell_type": "markdown",
      "source": [
        "#Importando Base De Datos"
      ],
      "metadata": {
        "id": "7GzXDkDq87LX"
      }
    },
    {
      "cell_type": "code",
      "execution_count": 73,
      "metadata": {
        "id": "UfRM-S0I8odg"
      },
      "outputs": [],
      "source": [
        "import pandas as pd"
      ]
    },
    {
      "cell_type": "code",
      "source": [
        "pd.read_csv(\"credit_card.csv\")"
      ],
      "metadata": {
        "colab": {
          "base_uri": "https://localhost:8080/",
          "height": 537
        },
        "id": "5QU_J7Gh9VRM",
        "outputId": "0c51e503-725e-47b2-f3fb-f913fc4c028c"
      },
      "execution_count": 74,
      "outputs": [
        {
          "output_type": "execute_result",
          "data": {
            "text/plain": [
              "      LIMIT_BAL CHECKING_ACCOUNT          EDUCATION MARRIAGE  AGE  \\\n",
              "0          6022              Yes       2.University  Married   24   \n",
              "1         36132              Yes       2.University   Single   26   \n",
              "2         27099              Yes       2.University   Single   34   \n",
              "3         15055              Yes       2.University  Married   37   \n",
              "4        150550               No  3.Graduate School   Single   29   \n",
              "...         ...              ...                ...      ...  ...   \n",
              "1495      54198              Yes  3.Graduate School   Single   27   \n",
              "1496      45165               No       2.University  Married   55   \n",
              "1497      78286               No  3.Graduate School   Single   34   \n",
              "1498       6022               No       2.University  Married   44   \n",
              "1499     183671               No  3.Graduate School   Single   31   \n",
              "\n",
              "         BILL_AMT     PAY_AMT  DEFAULT  \n",
              "0        934.0122      0.0000        1  \n",
              "1        519.3975      0.0000        1  \n",
              "2       4223.5297    457.0698        0  \n",
              "3      14522.9563    602.2000        0  \n",
              "4     124060.1253  16560.5000        0  \n",
              "...           ...         ...      ...  \n",
              "1495     295.0780      0.0000        1  \n",
              "1496   23637.8555   1144.1800        0  \n",
              "1497     962.9178    962.9178        0  \n",
              "1498     864.7592    864.7592        0  \n",
              "1499   97022.8508  97022.8508        0  \n",
              "\n",
              "[1500 rows x 8 columns]"
            ],
            "text/html": [
              "\n",
              "  <div id=\"df-140789d2-0f08-4610-b87d-c078a68f0bb2\">\n",
              "    <div class=\"colab-df-container\">\n",
              "      <div>\n",
              "<style scoped>\n",
              "    .dataframe tbody tr th:only-of-type {\n",
              "        vertical-align: middle;\n",
              "    }\n",
              "\n",
              "    .dataframe tbody tr th {\n",
              "        vertical-align: top;\n",
              "    }\n",
              "\n",
              "    .dataframe thead th {\n",
              "        text-align: right;\n",
              "    }\n",
              "</style>\n",
              "<table border=\"1\" class=\"dataframe\">\n",
              "  <thead>\n",
              "    <tr style=\"text-align: right;\">\n",
              "      <th></th>\n",
              "      <th>LIMIT_BAL</th>\n",
              "      <th>CHECKING_ACCOUNT</th>\n",
              "      <th>EDUCATION</th>\n",
              "      <th>MARRIAGE</th>\n",
              "      <th>AGE</th>\n",
              "      <th>BILL_AMT</th>\n",
              "      <th>PAY_AMT</th>\n",
              "      <th>DEFAULT</th>\n",
              "    </tr>\n",
              "  </thead>\n",
              "  <tbody>\n",
              "    <tr>\n",
              "      <th>0</th>\n",
              "      <td>6022</td>\n",
              "      <td>Yes</td>\n",
              "      <td>2.University</td>\n",
              "      <td>Married</td>\n",
              "      <td>24</td>\n",
              "      <td>934.0122</td>\n",
              "      <td>0.0000</td>\n",
              "      <td>1</td>\n",
              "    </tr>\n",
              "    <tr>\n",
              "      <th>1</th>\n",
              "      <td>36132</td>\n",
              "      <td>Yes</td>\n",
              "      <td>2.University</td>\n",
              "      <td>Single</td>\n",
              "      <td>26</td>\n",
              "      <td>519.3975</td>\n",
              "      <td>0.0000</td>\n",
              "      <td>1</td>\n",
              "    </tr>\n",
              "    <tr>\n",
              "      <th>2</th>\n",
              "      <td>27099</td>\n",
              "      <td>Yes</td>\n",
              "      <td>2.University</td>\n",
              "      <td>Single</td>\n",
              "      <td>34</td>\n",
              "      <td>4223.5297</td>\n",
              "      <td>457.0698</td>\n",
              "      <td>0</td>\n",
              "    </tr>\n",
              "    <tr>\n",
              "      <th>3</th>\n",
              "      <td>15055</td>\n",
              "      <td>Yes</td>\n",
              "      <td>2.University</td>\n",
              "      <td>Married</td>\n",
              "      <td>37</td>\n",
              "      <td>14522.9563</td>\n",
              "      <td>602.2000</td>\n",
              "      <td>0</td>\n",
              "    </tr>\n",
              "    <tr>\n",
              "      <th>4</th>\n",
              "      <td>150550</td>\n",
              "      <td>No</td>\n",
              "      <td>3.Graduate School</td>\n",
              "      <td>Single</td>\n",
              "      <td>29</td>\n",
              "      <td>124060.1253</td>\n",
              "      <td>16560.5000</td>\n",
              "      <td>0</td>\n",
              "    </tr>\n",
              "    <tr>\n",
              "      <th>...</th>\n",
              "      <td>...</td>\n",
              "      <td>...</td>\n",
              "      <td>...</td>\n",
              "      <td>...</td>\n",
              "      <td>...</td>\n",
              "      <td>...</td>\n",
              "      <td>...</td>\n",
              "      <td>...</td>\n",
              "    </tr>\n",
              "    <tr>\n",
              "      <th>1495</th>\n",
              "      <td>54198</td>\n",
              "      <td>Yes</td>\n",
              "      <td>3.Graduate School</td>\n",
              "      <td>Single</td>\n",
              "      <td>27</td>\n",
              "      <td>295.0780</td>\n",
              "      <td>0.0000</td>\n",
              "      <td>1</td>\n",
              "    </tr>\n",
              "    <tr>\n",
              "      <th>1496</th>\n",
              "      <td>45165</td>\n",
              "      <td>No</td>\n",
              "      <td>2.University</td>\n",
              "      <td>Married</td>\n",
              "      <td>55</td>\n",
              "      <td>23637.8555</td>\n",
              "      <td>1144.1800</td>\n",
              "      <td>0</td>\n",
              "    </tr>\n",
              "    <tr>\n",
              "      <th>1497</th>\n",
              "      <td>78286</td>\n",
              "      <td>No</td>\n",
              "      <td>3.Graduate School</td>\n",
              "      <td>Single</td>\n",
              "      <td>34</td>\n",
              "      <td>962.9178</td>\n",
              "      <td>962.9178</td>\n",
              "      <td>0</td>\n",
              "    </tr>\n",
              "    <tr>\n",
              "      <th>1498</th>\n",
              "      <td>6022</td>\n",
              "      <td>No</td>\n",
              "      <td>2.University</td>\n",
              "      <td>Married</td>\n",
              "      <td>44</td>\n",
              "      <td>864.7592</td>\n",
              "      <td>864.7592</td>\n",
              "      <td>0</td>\n",
              "    </tr>\n",
              "    <tr>\n",
              "      <th>1499</th>\n",
              "      <td>183671</td>\n",
              "      <td>No</td>\n",
              "      <td>3.Graduate School</td>\n",
              "      <td>Single</td>\n",
              "      <td>31</td>\n",
              "      <td>97022.8508</td>\n",
              "      <td>97022.8508</td>\n",
              "      <td>0</td>\n",
              "    </tr>\n",
              "  </tbody>\n",
              "</table>\n",
              "<p>1500 rows × 8 columns</p>\n",
              "</div>\n",
              "      <button class=\"colab-df-convert\" onclick=\"convertToInteractive('df-140789d2-0f08-4610-b87d-c078a68f0bb2')\"\n",
              "              title=\"Convert this dataframe to an interactive table.\"\n",
              "              style=\"display:none;\">\n",
              "        \n",
              "  <svg xmlns=\"http://www.w3.org/2000/svg\" height=\"24px\"viewBox=\"0 0 24 24\"\n",
              "       width=\"24px\">\n",
              "    <path d=\"M0 0h24v24H0V0z\" fill=\"none\"/>\n",
              "    <path d=\"M18.56 5.44l.94 2.06.94-2.06 2.06-.94-2.06-.94-.94-2.06-.94 2.06-2.06.94zm-11 1L8.5 8.5l.94-2.06 2.06-.94-2.06-.94L8.5 2.5l-.94 2.06-2.06.94zm10 10l.94 2.06.94-2.06 2.06-.94-2.06-.94-.94-2.06-.94 2.06-2.06.94z\"/><path d=\"M17.41 7.96l-1.37-1.37c-.4-.4-.92-.59-1.43-.59-.52 0-1.04.2-1.43.59L10.3 9.45l-7.72 7.72c-.78.78-.78 2.05 0 2.83L4 21.41c.39.39.9.59 1.41.59.51 0 1.02-.2 1.41-.59l7.78-7.78 2.81-2.81c.8-.78.8-2.07 0-2.86zM5.41 20L4 18.59l7.72-7.72 1.47 1.35L5.41 20z\"/>\n",
              "  </svg>\n",
              "      </button>\n",
              "      \n",
              "  <style>\n",
              "    .colab-df-container {\n",
              "      display:flex;\n",
              "      flex-wrap:wrap;\n",
              "      gap: 12px;\n",
              "    }\n",
              "\n",
              "    .colab-df-convert {\n",
              "      background-color: #E8F0FE;\n",
              "      border: none;\n",
              "      border-radius: 50%;\n",
              "      cursor: pointer;\n",
              "      display: none;\n",
              "      fill: #1967D2;\n",
              "      height: 32px;\n",
              "      padding: 0 0 0 0;\n",
              "      width: 32px;\n",
              "    }\n",
              "\n",
              "    .colab-df-convert:hover {\n",
              "      background-color: #E2EBFA;\n",
              "      box-shadow: 0px 1px 2px rgba(60, 64, 67, 0.3), 0px 1px 3px 1px rgba(60, 64, 67, 0.15);\n",
              "      fill: #174EA6;\n",
              "    }\n",
              "\n",
              "    [theme=dark] .colab-df-convert {\n",
              "      background-color: #3B4455;\n",
              "      fill: #D2E3FC;\n",
              "    }\n",
              "\n",
              "    [theme=dark] .colab-df-convert:hover {\n",
              "      background-color: #434B5C;\n",
              "      box-shadow: 0px 1px 3px 1px rgba(0, 0, 0, 0.15);\n",
              "      filter: drop-shadow(0px 1px 2px rgba(0, 0, 0, 0.3));\n",
              "      fill: #FFFFFF;\n",
              "    }\n",
              "  </style>\n",
              "\n",
              "      <script>\n",
              "        const buttonEl =\n",
              "          document.querySelector('#df-140789d2-0f08-4610-b87d-c078a68f0bb2 button.colab-df-convert');\n",
              "        buttonEl.style.display =\n",
              "          google.colab.kernel.accessAllowed ? 'block' : 'none';\n",
              "\n",
              "        async function convertToInteractive(key) {\n",
              "          const element = document.querySelector('#df-140789d2-0f08-4610-b87d-c078a68f0bb2');\n",
              "          const dataTable =\n",
              "            await google.colab.kernel.invokeFunction('convertToInteractive',\n",
              "                                                     [key], {});\n",
              "          if (!dataTable) return;\n",
              "\n",
              "          const docLinkHtml = 'Like what you see? Visit the ' +\n",
              "            '<a target=\"_blank\" href=https://colab.research.google.com/notebooks/data_table.ipynb>data table notebook</a>'\n",
              "            + ' to learn more about interactive tables.';\n",
              "          element.innerHTML = '';\n",
              "          dataTable['output_type'] = 'display_data';\n",
              "          await google.colab.output.renderOutput(dataTable, element);\n",
              "          const docLink = document.createElement('div');\n",
              "          docLink.innerHTML = docLinkHtml;\n",
              "          element.appendChild(docLink);\n",
              "        }\n",
              "      </script>\n",
              "    </div>\n",
              "  </div>\n",
              "  "
            ]
          },
          "metadata": {},
          "execution_count": 74
        }
      ]
    },
    {
      "cell_type": "code",
      "source": [
        "datos=pd.read_csv(\"credit_card.csv\")"
      ],
      "metadata": {
        "id": "HZtMyRHD9n2D"
      },
      "execution_count": 75,
      "outputs": []
    },
    {
      "cell_type": "code",
      "source": [
        "datos.head()"
      ],
      "metadata": {
        "colab": {
          "base_uri": "https://localhost:8080/",
          "height": 267
        },
        "id": "DdEe3gtc-FKE",
        "outputId": "4691d190-6232-4181-c2d8-5cbb03af6efd"
      },
      "execution_count": 76,
      "outputs": [
        {
          "output_type": "execute_result",
          "data": {
            "text/plain": [
              "   LIMIT_BAL CHECKING_ACCOUNT          EDUCATION MARRIAGE  AGE     BILL_AMT  \\\n",
              "0       6022              Yes       2.University  Married   24     934.0122   \n",
              "1      36132              Yes       2.University   Single   26     519.3975   \n",
              "2      27099              Yes       2.University   Single   34    4223.5297   \n",
              "3      15055              Yes       2.University  Married   37   14522.9563   \n",
              "4     150550               No  3.Graduate School   Single   29  124060.1253   \n",
              "\n",
              "      PAY_AMT  DEFAULT  \n",
              "0      0.0000        1  \n",
              "1      0.0000        1  \n",
              "2    457.0698        0  \n",
              "3    602.2000        0  \n",
              "4  16560.5000        0  "
            ],
            "text/html": [
              "\n",
              "  <div id=\"df-ec31a8d8-910e-49e5-9754-91ac240adb24\">\n",
              "    <div class=\"colab-df-container\">\n",
              "      <div>\n",
              "<style scoped>\n",
              "    .dataframe tbody tr th:only-of-type {\n",
              "        vertical-align: middle;\n",
              "    }\n",
              "\n",
              "    .dataframe tbody tr th {\n",
              "        vertical-align: top;\n",
              "    }\n",
              "\n",
              "    .dataframe thead th {\n",
              "        text-align: right;\n",
              "    }\n",
              "</style>\n",
              "<table border=\"1\" class=\"dataframe\">\n",
              "  <thead>\n",
              "    <tr style=\"text-align: right;\">\n",
              "      <th></th>\n",
              "      <th>LIMIT_BAL</th>\n",
              "      <th>CHECKING_ACCOUNT</th>\n",
              "      <th>EDUCATION</th>\n",
              "      <th>MARRIAGE</th>\n",
              "      <th>AGE</th>\n",
              "      <th>BILL_AMT</th>\n",
              "      <th>PAY_AMT</th>\n",
              "      <th>DEFAULT</th>\n",
              "    </tr>\n",
              "  </thead>\n",
              "  <tbody>\n",
              "    <tr>\n",
              "      <th>0</th>\n",
              "      <td>6022</td>\n",
              "      <td>Yes</td>\n",
              "      <td>2.University</td>\n",
              "      <td>Married</td>\n",
              "      <td>24</td>\n",
              "      <td>934.0122</td>\n",
              "      <td>0.0000</td>\n",
              "      <td>1</td>\n",
              "    </tr>\n",
              "    <tr>\n",
              "      <th>1</th>\n",
              "      <td>36132</td>\n",
              "      <td>Yes</td>\n",
              "      <td>2.University</td>\n",
              "      <td>Single</td>\n",
              "      <td>26</td>\n",
              "      <td>519.3975</td>\n",
              "      <td>0.0000</td>\n",
              "      <td>1</td>\n",
              "    </tr>\n",
              "    <tr>\n",
              "      <th>2</th>\n",
              "      <td>27099</td>\n",
              "      <td>Yes</td>\n",
              "      <td>2.University</td>\n",
              "      <td>Single</td>\n",
              "      <td>34</td>\n",
              "      <td>4223.5297</td>\n",
              "      <td>457.0698</td>\n",
              "      <td>0</td>\n",
              "    </tr>\n",
              "    <tr>\n",
              "      <th>3</th>\n",
              "      <td>15055</td>\n",
              "      <td>Yes</td>\n",
              "      <td>2.University</td>\n",
              "      <td>Married</td>\n",
              "      <td>37</td>\n",
              "      <td>14522.9563</td>\n",
              "      <td>602.2000</td>\n",
              "      <td>0</td>\n",
              "    </tr>\n",
              "    <tr>\n",
              "      <th>4</th>\n",
              "      <td>150550</td>\n",
              "      <td>No</td>\n",
              "      <td>3.Graduate School</td>\n",
              "      <td>Single</td>\n",
              "      <td>29</td>\n",
              "      <td>124060.1253</td>\n",
              "      <td>16560.5000</td>\n",
              "      <td>0</td>\n",
              "    </tr>\n",
              "  </tbody>\n",
              "</table>\n",
              "</div>\n",
              "      <button class=\"colab-df-convert\" onclick=\"convertToInteractive('df-ec31a8d8-910e-49e5-9754-91ac240adb24')\"\n",
              "              title=\"Convert this dataframe to an interactive table.\"\n",
              "              style=\"display:none;\">\n",
              "        \n",
              "  <svg xmlns=\"http://www.w3.org/2000/svg\" height=\"24px\"viewBox=\"0 0 24 24\"\n",
              "       width=\"24px\">\n",
              "    <path d=\"M0 0h24v24H0V0z\" fill=\"none\"/>\n",
              "    <path d=\"M18.56 5.44l.94 2.06.94-2.06 2.06-.94-2.06-.94-.94-2.06-.94 2.06-2.06.94zm-11 1L8.5 8.5l.94-2.06 2.06-.94-2.06-.94L8.5 2.5l-.94 2.06-2.06.94zm10 10l.94 2.06.94-2.06 2.06-.94-2.06-.94-.94-2.06-.94 2.06-2.06.94z\"/><path d=\"M17.41 7.96l-1.37-1.37c-.4-.4-.92-.59-1.43-.59-.52 0-1.04.2-1.43.59L10.3 9.45l-7.72 7.72c-.78.78-.78 2.05 0 2.83L4 21.41c.39.39.9.59 1.41.59.51 0 1.02-.2 1.41-.59l7.78-7.78 2.81-2.81c.8-.78.8-2.07 0-2.86zM5.41 20L4 18.59l7.72-7.72 1.47 1.35L5.41 20z\"/>\n",
              "  </svg>\n",
              "      </button>\n",
              "      \n",
              "  <style>\n",
              "    .colab-df-container {\n",
              "      display:flex;\n",
              "      flex-wrap:wrap;\n",
              "      gap: 12px;\n",
              "    }\n",
              "\n",
              "    .colab-df-convert {\n",
              "      background-color: #E8F0FE;\n",
              "      border: none;\n",
              "      border-radius: 50%;\n",
              "      cursor: pointer;\n",
              "      display: none;\n",
              "      fill: #1967D2;\n",
              "      height: 32px;\n",
              "      padding: 0 0 0 0;\n",
              "      width: 32px;\n",
              "    }\n",
              "\n",
              "    .colab-df-convert:hover {\n",
              "      background-color: #E2EBFA;\n",
              "      box-shadow: 0px 1px 2px rgba(60, 64, 67, 0.3), 0px 1px 3px 1px rgba(60, 64, 67, 0.15);\n",
              "      fill: #174EA6;\n",
              "    }\n",
              "\n",
              "    [theme=dark] .colab-df-convert {\n",
              "      background-color: #3B4455;\n",
              "      fill: #D2E3FC;\n",
              "    }\n",
              "\n",
              "    [theme=dark] .colab-df-convert:hover {\n",
              "      background-color: #434B5C;\n",
              "      box-shadow: 0px 1px 3px 1px rgba(0, 0, 0, 0.15);\n",
              "      filter: drop-shadow(0px 1px 2px rgba(0, 0, 0, 0.3));\n",
              "      fill: #FFFFFF;\n",
              "    }\n",
              "  </style>\n",
              "\n",
              "      <script>\n",
              "        const buttonEl =\n",
              "          document.querySelector('#df-ec31a8d8-910e-49e5-9754-91ac240adb24 button.colab-df-convert');\n",
              "        buttonEl.style.display =\n",
              "          google.colab.kernel.accessAllowed ? 'block' : 'none';\n",
              "\n",
              "        async function convertToInteractive(key) {\n",
              "          const element = document.querySelector('#df-ec31a8d8-910e-49e5-9754-91ac240adb24');\n",
              "          const dataTable =\n",
              "            await google.colab.kernel.invokeFunction('convertToInteractive',\n",
              "                                                     [key], {});\n",
              "          if (!dataTable) return;\n",
              "\n",
              "          const docLinkHtml = 'Like what you see? Visit the ' +\n",
              "            '<a target=\"_blank\" href=https://colab.research.google.com/notebooks/data_table.ipynb>data table notebook</a>'\n",
              "            + ' to learn more about interactive tables.';\n",
              "          element.innerHTML = '';\n",
              "          dataTable['output_type'] = 'display_data';\n",
              "          await google.colab.output.renderOutput(dataTable, element);\n",
              "          const docLink = document.createElement('div');\n",
              "          docLink.innerHTML = docLinkHtml;\n",
              "          element.appendChild(docLink);\n",
              "        }\n",
              "      </script>\n",
              "    </div>\n",
              "  </div>\n",
              "  "
            ]
          },
          "metadata": {},
          "execution_count": 76
        }
      ]
    },
    {
      "cell_type": "code",
      "source": [
        "datos.info()"
      ],
      "metadata": {
        "colab": {
          "base_uri": "https://localhost:8080/"
        },
        "id": "yKX87sRO-O5m",
        "outputId": "973f29bf-4e95-4c5a-c7cb-88359997d278"
      },
      "execution_count": 77,
      "outputs": [
        {
          "output_type": "stream",
          "name": "stdout",
          "text": [
            "<class 'pandas.core.frame.DataFrame'>\n",
            "RangeIndex: 1500 entries, 0 to 1499\n",
            "Data columns (total 8 columns):\n",
            " #   Column            Non-Null Count  Dtype  \n",
            "---  ------            --------------  -----  \n",
            " 0   LIMIT_BAL         1500 non-null   int64  \n",
            " 1   CHECKING_ACCOUNT  1500 non-null   object \n",
            " 2   EDUCATION         1500 non-null   object \n",
            " 3   MARRIAGE          1500 non-null   object \n",
            " 4   AGE               1500 non-null   int64  \n",
            " 5   BILL_AMT          1500 non-null   float64\n",
            " 6   PAY_AMT           1500 non-null   float64\n",
            " 7   DEFAULT           1500 non-null   int64  \n",
            "dtypes: float64(2), int64(3), object(3)\n",
            "memory usage: 93.9+ KB\n"
          ]
        }
      ]
    },
    {
      "cell_type": "code",
      "source": [
        "datos.columns"
      ],
      "metadata": {
        "colab": {
          "base_uri": "https://localhost:8080/"
        },
        "id": "G1Sdur58DiSQ",
        "outputId": "e775419f-a02b-4186-de5b-27f8fe4aa80c"
      },
      "execution_count": 78,
      "outputs": [
        {
          "output_type": "execute_result",
          "data": {
            "text/plain": [
              "Index(['LIMIT_BAL', 'CHECKING_ACCOUNT', 'EDUCATION', 'MARRIAGE', 'AGE',\n",
              "       'BILL_AMT', 'PAY_AMT', 'DEFAULT'],\n",
              "      dtype='object')"
            ]
          },
          "metadata": {},
          "execution_count": 78
        }
      ]
    },
    {
      "cell_type": "code",
      "source": [
        "dic_columnas={\n",
        "  \"LIMIT_BAL\": \"Límite de crédito\",\n",
        "  \"CHECKING_ACCOUNT\": \"cuenta_corriente\",\n",
        "  \"EDUCATION\": \"Educación\",\n",
        "  \"MARRIAGE\": \"Estado_civil\",\n",
        "  \"AGE\": \"Edad\",\n",
        "  \"BILL_AMT\": \"Importe_de_la_factura\",\n",
        "  \"PAY_AMT\": \"Importe_pagado\",\n",
        "  \"DEFAULT\": \"moroso\"\n",
        "}"
      ],
      "metadata": {
        "id": "r6Ov2HMNDrvJ"
      },
      "execution_count": 79,
      "outputs": []
    },
    {
      "cell_type": "code",
      "source": [
        "tarjetas=datos.rename(columns=dic_columnas)"
      ],
      "metadata": {
        "id": "x5Qbm7UCGDX8"
      },
      "execution_count": 80,
      "outputs": []
    },
    {
      "cell_type": "code",
      "source": [
        "tarjetas.head()"
      ],
      "metadata": {
        "colab": {
          "base_uri": "https://localhost:8080/",
          "height": 322
        },
        "id": "1VepIu2fGgl3",
        "outputId": "80042b82-ca23-4eb9-ac4a-707d23043fa5"
      },
      "execution_count": 81,
      "outputs": [
        {
          "output_type": "execute_result",
          "data": {
            "text/plain": [
              "   Límite de crédito cuenta_corriente          Educación Estado_civil  Edad  \\\n",
              "0               6022              Yes       2.University      Married    24   \n",
              "1              36132              Yes       2.University       Single    26   \n",
              "2              27099              Yes       2.University       Single    34   \n",
              "3              15055              Yes       2.University      Married    37   \n",
              "4             150550               No  3.Graduate School       Single    29   \n",
              "\n",
              "   Importe_de_la_factura  Importe_pagado  moroso  \n",
              "0               934.0122          0.0000       1  \n",
              "1               519.3975          0.0000       1  \n",
              "2              4223.5297        457.0698       0  \n",
              "3             14522.9563        602.2000       0  \n",
              "4            124060.1253      16560.5000       0  "
            ],
            "text/html": [
              "\n",
              "  <div id=\"df-1ef48a87-9e0e-48fc-a946-86c9e65fd6b4\">\n",
              "    <div class=\"colab-df-container\">\n",
              "      <div>\n",
              "<style scoped>\n",
              "    .dataframe tbody tr th:only-of-type {\n",
              "        vertical-align: middle;\n",
              "    }\n",
              "\n",
              "    .dataframe tbody tr th {\n",
              "        vertical-align: top;\n",
              "    }\n",
              "\n",
              "    .dataframe thead th {\n",
              "        text-align: right;\n",
              "    }\n",
              "</style>\n",
              "<table border=\"1\" class=\"dataframe\">\n",
              "  <thead>\n",
              "    <tr style=\"text-align: right;\">\n",
              "      <th></th>\n",
              "      <th>Límite de crédito</th>\n",
              "      <th>cuenta_corriente</th>\n",
              "      <th>Educación</th>\n",
              "      <th>Estado_civil</th>\n",
              "      <th>Edad</th>\n",
              "      <th>Importe_de_la_factura</th>\n",
              "      <th>Importe_pagado</th>\n",
              "      <th>moroso</th>\n",
              "    </tr>\n",
              "  </thead>\n",
              "  <tbody>\n",
              "    <tr>\n",
              "      <th>0</th>\n",
              "      <td>6022</td>\n",
              "      <td>Yes</td>\n",
              "      <td>2.University</td>\n",
              "      <td>Married</td>\n",
              "      <td>24</td>\n",
              "      <td>934.0122</td>\n",
              "      <td>0.0000</td>\n",
              "      <td>1</td>\n",
              "    </tr>\n",
              "    <tr>\n",
              "      <th>1</th>\n",
              "      <td>36132</td>\n",
              "      <td>Yes</td>\n",
              "      <td>2.University</td>\n",
              "      <td>Single</td>\n",
              "      <td>26</td>\n",
              "      <td>519.3975</td>\n",
              "      <td>0.0000</td>\n",
              "      <td>1</td>\n",
              "    </tr>\n",
              "    <tr>\n",
              "      <th>2</th>\n",
              "      <td>27099</td>\n",
              "      <td>Yes</td>\n",
              "      <td>2.University</td>\n",
              "      <td>Single</td>\n",
              "      <td>34</td>\n",
              "      <td>4223.5297</td>\n",
              "      <td>457.0698</td>\n",
              "      <td>0</td>\n",
              "    </tr>\n",
              "    <tr>\n",
              "      <th>3</th>\n",
              "      <td>15055</td>\n",
              "      <td>Yes</td>\n",
              "      <td>2.University</td>\n",
              "      <td>Married</td>\n",
              "      <td>37</td>\n",
              "      <td>14522.9563</td>\n",
              "      <td>602.2000</td>\n",
              "      <td>0</td>\n",
              "    </tr>\n",
              "    <tr>\n",
              "      <th>4</th>\n",
              "      <td>150550</td>\n",
              "      <td>No</td>\n",
              "      <td>3.Graduate School</td>\n",
              "      <td>Single</td>\n",
              "      <td>29</td>\n",
              "      <td>124060.1253</td>\n",
              "      <td>16560.5000</td>\n",
              "      <td>0</td>\n",
              "    </tr>\n",
              "  </tbody>\n",
              "</table>\n",
              "</div>\n",
              "      <button class=\"colab-df-convert\" onclick=\"convertToInteractive('df-1ef48a87-9e0e-48fc-a946-86c9e65fd6b4')\"\n",
              "              title=\"Convert this dataframe to an interactive table.\"\n",
              "              style=\"display:none;\">\n",
              "        \n",
              "  <svg xmlns=\"http://www.w3.org/2000/svg\" height=\"24px\"viewBox=\"0 0 24 24\"\n",
              "       width=\"24px\">\n",
              "    <path d=\"M0 0h24v24H0V0z\" fill=\"none\"/>\n",
              "    <path d=\"M18.56 5.44l.94 2.06.94-2.06 2.06-.94-2.06-.94-.94-2.06-.94 2.06-2.06.94zm-11 1L8.5 8.5l.94-2.06 2.06-.94-2.06-.94L8.5 2.5l-.94 2.06-2.06.94zm10 10l.94 2.06.94-2.06 2.06-.94-2.06-.94-.94-2.06-.94 2.06-2.06.94z\"/><path d=\"M17.41 7.96l-1.37-1.37c-.4-.4-.92-.59-1.43-.59-.52 0-1.04.2-1.43.59L10.3 9.45l-7.72 7.72c-.78.78-.78 2.05 0 2.83L4 21.41c.39.39.9.59 1.41.59.51 0 1.02-.2 1.41-.59l7.78-7.78 2.81-2.81c.8-.78.8-2.07 0-2.86zM5.41 20L4 18.59l7.72-7.72 1.47 1.35L5.41 20z\"/>\n",
              "  </svg>\n",
              "      </button>\n",
              "      \n",
              "  <style>\n",
              "    .colab-df-container {\n",
              "      display:flex;\n",
              "      flex-wrap:wrap;\n",
              "      gap: 12px;\n",
              "    }\n",
              "\n",
              "    .colab-df-convert {\n",
              "      background-color: #E8F0FE;\n",
              "      border: none;\n",
              "      border-radius: 50%;\n",
              "      cursor: pointer;\n",
              "      display: none;\n",
              "      fill: #1967D2;\n",
              "      height: 32px;\n",
              "      padding: 0 0 0 0;\n",
              "      width: 32px;\n",
              "    }\n",
              "\n",
              "    .colab-df-convert:hover {\n",
              "      background-color: #E2EBFA;\n",
              "      box-shadow: 0px 1px 2px rgba(60, 64, 67, 0.3), 0px 1px 3px 1px rgba(60, 64, 67, 0.15);\n",
              "      fill: #174EA6;\n",
              "    }\n",
              "\n",
              "    [theme=dark] .colab-df-convert {\n",
              "      background-color: #3B4455;\n",
              "      fill: #D2E3FC;\n",
              "    }\n",
              "\n",
              "    [theme=dark] .colab-df-convert:hover {\n",
              "      background-color: #434B5C;\n",
              "      box-shadow: 0px 1px 3px 1px rgba(0, 0, 0, 0.15);\n",
              "      filter: drop-shadow(0px 1px 2px rgba(0, 0, 0, 0.3));\n",
              "      fill: #FFFFFF;\n",
              "    }\n",
              "  </style>\n",
              "\n",
              "      <script>\n",
              "        const buttonEl =\n",
              "          document.querySelector('#df-1ef48a87-9e0e-48fc-a946-86c9e65fd6b4 button.colab-df-convert');\n",
              "        buttonEl.style.display =\n",
              "          google.colab.kernel.accessAllowed ? 'block' : 'none';\n",
              "\n",
              "        async function convertToInteractive(key) {\n",
              "          const element = document.querySelector('#df-1ef48a87-9e0e-48fc-a946-86c9e65fd6b4');\n",
              "          const dataTable =\n",
              "            await google.colab.kernel.invokeFunction('convertToInteractive',\n",
              "                                                     [key], {});\n",
              "          if (!dataTable) return;\n",
              "\n",
              "          const docLinkHtml = 'Like what you see? Visit the ' +\n",
              "            '<a target=\"_blank\" href=https://colab.research.google.com/notebooks/data_table.ipynb>data table notebook</a>'\n",
              "            + ' to learn more about interactive tables.';\n",
              "          element.innerHTML = '';\n",
              "          dataTable['output_type'] = 'display_data';\n",
              "          await google.colab.output.renderOutput(dataTable, element);\n",
              "          const docLink = document.createElement('div');\n",
              "          docLink.innerHTML = docLinkHtml;\n",
              "          element.appendChild(docLink);\n",
              "        }\n",
              "      </script>\n",
              "    </div>\n",
              "  </div>\n",
              "  "
            ]
          },
          "metadata": {},
          "execution_count": 81
        }
      ]
    },
    {
      "cell_type": "code",
      "source": [
        "tarjetas.cuenta_corriente.unique()"
      ],
      "metadata": {
        "colab": {
          "base_uri": "https://localhost:8080/"
        },
        "id": "7jYgPjotGtfi",
        "outputId": "88437c5e-0a16-491c-acdb-47f803c60688"
      },
      "execution_count": 82,
      "outputs": [
        {
          "output_type": "execute_result",
          "data": {
            "text/plain": [
              "array(['Yes', 'No'], dtype=object)"
            ]
          },
          "metadata": {},
          "execution_count": 82
        }
      ]
    },
    {
      "cell_type": "code",
      "source": [
        "dic_cuenta={'Yes':'Si', 'No':'No'}"
      ],
      "metadata": {
        "id": "9hoQFDfnIKq6"
      },
      "execution_count": 83,
      "outputs": []
    },
    {
      "cell_type": "code",
      "source": [
        "tarjetas.cuenta_corriente=tarjetas.cuenta_corriente.map(dic_cuenta)"
      ],
      "metadata": {
        "id": "3GNnlWtjREtl"
      },
      "execution_count": 84,
      "outputs": []
    },
    {
      "cell_type": "code",
      "source": [
        "tarjetas.head()"
      ],
      "metadata": {
        "colab": {
          "base_uri": "https://localhost:8080/",
          "height": 322
        },
        "id": "0wyNtZBORQHr",
        "outputId": "eb566de7-b335-44ff-a23b-00696164fee7"
      },
      "execution_count": 85,
      "outputs": [
        {
          "output_type": "execute_result",
          "data": {
            "text/plain": [
              "   Límite de crédito cuenta_corriente          Educación Estado_civil  Edad  \\\n",
              "0               6022               Si       2.University      Married    24   \n",
              "1              36132               Si       2.University       Single    26   \n",
              "2              27099               Si       2.University       Single    34   \n",
              "3              15055               Si       2.University      Married    37   \n",
              "4             150550               No  3.Graduate School       Single    29   \n",
              "\n",
              "   Importe_de_la_factura  Importe_pagado  moroso  \n",
              "0               934.0122          0.0000       1  \n",
              "1               519.3975          0.0000       1  \n",
              "2              4223.5297        457.0698       0  \n",
              "3             14522.9563        602.2000       0  \n",
              "4            124060.1253      16560.5000       0  "
            ],
            "text/html": [
              "\n",
              "  <div id=\"df-bfde3cc9-935e-4cd3-b583-3bf23e526e23\">\n",
              "    <div class=\"colab-df-container\">\n",
              "      <div>\n",
              "<style scoped>\n",
              "    .dataframe tbody tr th:only-of-type {\n",
              "        vertical-align: middle;\n",
              "    }\n",
              "\n",
              "    .dataframe tbody tr th {\n",
              "        vertical-align: top;\n",
              "    }\n",
              "\n",
              "    .dataframe thead th {\n",
              "        text-align: right;\n",
              "    }\n",
              "</style>\n",
              "<table border=\"1\" class=\"dataframe\">\n",
              "  <thead>\n",
              "    <tr style=\"text-align: right;\">\n",
              "      <th></th>\n",
              "      <th>Límite de crédito</th>\n",
              "      <th>cuenta_corriente</th>\n",
              "      <th>Educación</th>\n",
              "      <th>Estado_civil</th>\n",
              "      <th>Edad</th>\n",
              "      <th>Importe_de_la_factura</th>\n",
              "      <th>Importe_pagado</th>\n",
              "      <th>moroso</th>\n",
              "    </tr>\n",
              "  </thead>\n",
              "  <tbody>\n",
              "    <tr>\n",
              "      <th>0</th>\n",
              "      <td>6022</td>\n",
              "      <td>Si</td>\n",
              "      <td>2.University</td>\n",
              "      <td>Married</td>\n",
              "      <td>24</td>\n",
              "      <td>934.0122</td>\n",
              "      <td>0.0000</td>\n",
              "      <td>1</td>\n",
              "    </tr>\n",
              "    <tr>\n",
              "      <th>1</th>\n",
              "      <td>36132</td>\n",
              "      <td>Si</td>\n",
              "      <td>2.University</td>\n",
              "      <td>Single</td>\n",
              "      <td>26</td>\n",
              "      <td>519.3975</td>\n",
              "      <td>0.0000</td>\n",
              "      <td>1</td>\n",
              "    </tr>\n",
              "    <tr>\n",
              "      <th>2</th>\n",
              "      <td>27099</td>\n",
              "      <td>Si</td>\n",
              "      <td>2.University</td>\n",
              "      <td>Single</td>\n",
              "      <td>34</td>\n",
              "      <td>4223.5297</td>\n",
              "      <td>457.0698</td>\n",
              "      <td>0</td>\n",
              "    </tr>\n",
              "    <tr>\n",
              "      <th>3</th>\n",
              "      <td>15055</td>\n",
              "      <td>Si</td>\n",
              "      <td>2.University</td>\n",
              "      <td>Married</td>\n",
              "      <td>37</td>\n",
              "      <td>14522.9563</td>\n",
              "      <td>602.2000</td>\n",
              "      <td>0</td>\n",
              "    </tr>\n",
              "    <tr>\n",
              "      <th>4</th>\n",
              "      <td>150550</td>\n",
              "      <td>No</td>\n",
              "      <td>3.Graduate School</td>\n",
              "      <td>Single</td>\n",
              "      <td>29</td>\n",
              "      <td>124060.1253</td>\n",
              "      <td>16560.5000</td>\n",
              "      <td>0</td>\n",
              "    </tr>\n",
              "  </tbody>\n",
              "</table>\n",
              "</div>\n",
              "      <button class=\"colab-df-convert\" onclick=\"convertToInteractive('df-bfde3cc9-935e-4cd3-b583-3bf23e526e23')\"\n",
              "              title=\"Convert this dataframe to an interactive table.\"\n",
              "              style=\"display:none;\">\n",
              "        \n",
              "  <svg xmlns=\"http://www.w3.org/2000/svg\" height=\"24px\"viewBox=\"0 0 24 24\"\n",
              "       width=\"24px\">\n",
              "    <path d=\"M0 0h24v24H0V0z\" fill=\"none\"/>\n",
              "    <path d=\"M18.56 5.44l.94 2.06.94-2.06 2.06-.94-2.06-.94-.94-2.06-.94 2.06-2.06.94zm-11 1L8.5 8.5l.94-2.06 2.06-.94-2.06-.94L8.5 2.5l-.94 2.06-2.06.94zm10 10l.94 2.06.94-2.06 2.06-.94-2.06-.94-.94-2.06-.94 2.06-2.06.94z\"/><path d=\"M17.41 7.96l-1.37-1.37c-.4-.4-.92-.59-1.43-.59-.52 0-1.04.2-1.43.59L10.3 9.45l-7.72 7.72c-.78.78-.78 2.05 0 2.83L4 21.41c.39.39.9.59 1.41.59.51 0 1.02-.2 1.41-.59l7.78-7.78 2.81-2.81c.8-.78.8-2.07 0-2.86zM5.41 20L4 18.59l7.72-7.72 1.47 1.35L5.41 20z\"/>\n",
              "  </svg>\n",
              "      </button>\n",
              "      \n",
              "  <style>\n",
              "    .colab-df-container {\n",
              "      display:flex;\n",
              "      flex-wrap:wrap;\n",
              "      gap: 12px;\n",
              "    }\n",
              "\n",
              "    .colab-df-convert {\n",
              "      background-color: #E8F0FE;\n",
              "      border: none;\n",
              "      border-radius: 50%;\n",
              "      cursor: pointer;\n",
              "      display: none;\n",
              "      fill: #1967D2;\n",
              "      height: 32px;\n",
              "      padding: 0 0 0 0;\n",
              "      width: 32px;\n",
              "    }\n",
              "\n",
              "    .colab-df-convert:hover {\n",
              "      background-color: #E2EBFA;\n",
              "      box-shadow: 0px 1px 2px rgba(60, 64, 67, 0.3), 0px 1px 3px 1px rgba(60, 64, 67, 0.15);\n",
              "      fill: #174EA6;\n",
              "    }\n",
              "\n",
              "    [theme=dark] .colab-df-convert {\n",
              "      background-color: #3B4455;\n",
              "      fill: #D2E3FC;\n",
              "    }\n",
              "\n",
              "    [theme=dark] .colab-df-convert:hover {\n",
              "      background-color: #434B5C;\n",
              "      box-shadow: 0px 1px 3px 1px rgba(0, 0, 0, 0.15);\n",
              "      filter: drop-shadow(0px 1px 2px rgba(0, 0, 0, 0.3));\n",
              "      fill: #FFFFFF;\n",
              "    }\n",
              "  </style>\n",
              "\n",
              "      <script>\n",
              "        const buttonEl =\n",
              "          document.querySelector('#df-bfde3cc9-935e-4cd3-b583-3bf23e526e23 button.colab-df-convert');\n",
              "        buttonEl.style.display =\n",
              "          google.colab.kernel.accessAllowed ? 'block' : 'none';\n",
              "\n",
              "        async function convertToInteractive(key) {\n",
              "          const element = document.querySelector('#df-bfde3cc9-935e-4cd3-b583-3bf23e526e23');\n",
              "          const dataTable =\n",
              "            await google.colab.kernel.invokeFunction('convertToInteractive',\n",
              "                                                     [key], {});\n",
              "          if (!dataTable) return;\n",
              "\n",
              "          const docLinkHtml = 'Like what you see? Visit the ' +\n",
              "            '<a target=\"_blank\" href=https://colab.research.google.com/notebooks/data_table.ipynb>data table notebook</a>'\n",
              "            + ' to learn more about interactive tables.';\n",
              "          element.innerHTML = '';\n",
              "          dataTable['output_type'] = 'display_data';\n",
              "          await google.colab.output.renderOutput(dataTable, element);\n",
              "          const docLink = document.createElement('div');\n",
              "          docLink.innerHTML = docLinkHtml;\n",
              "          element.appendChild(docLink);\n",
              "        }\n",
              "      </script>\n",
              "    </div>\n",
              "  </div>\n",
              "  "
            ]
          },
          "metadata": {},
          "execution_count": 85
        }
      ]
    },
    {
      "cell_type": "code",
      "source": [
        "tarjetas.Educación.unique()"
      ],
      "metadata": {
        "colab": {
          "base_uri": "https://localhost:8080/"
        },
        "id": "l5xogKIN-tj5",
        "outputId": "c9468ccc-303f-49ad-8d9f-ca6c11a8c598"
      },
      "execution_count": 86,
      "outputs": [
        {
          "output_type": "execute_result",
          "data": {
            "text/plain": [
              "array(['2.University', '3.Graduate School', '1.High School'], dtype=object)"
            ]
          },
          "metadata": {},
          "execution_count": 86
        }
      ]
    },
    {
      "cell_type": "code",
      "source": [
        "dic_Educación = {\n",
        "    '2.University' : '2.Universidad',\n",
        "    '3.Graduate School' : '3.Pos-graduación',\n",
        "    '1.High School' : '1.Colegio'\n",
        "}"
      ],
      "metadata": {
        "id": "M7QJXMYu_GAc"
      },
      "execution_count": 87,
      "outputs": []
    },
    {
      "cell_type": "code",
      "source": [
        "tarjetas.Educación = tarjetas.Educación.map(dic_Educación)"
      ],
      "metadata": {
        "id": "ehbuIOtXArtx"
      },
      "execution_count": 88,
      "outputs": []
    },
    {
      "cell_type": "code",
      "source": [
        "tarjetas.head()"
      ],
      "metadata": {
        "colab": {
          "base_uri": "https://localhost:8080/",
          "height": 322
        },
        "id": "lC0H6ZMQA3IF",
        "outputId": "83806834-32f3-47e7-c5b3-caa412ebd2ad"
      },
      "execution_count": 89,
      "outputs": [
        {
          "output_type": "execute_result",
          "data": {
            "text/plain": [
              "   Límite de crédito cuenta_corriente         Educación Estado_civil  Edad  \\\n",
              "0               6022               Si     2.Universidad      Married    24   \n",
              "1              36132               Si     2.Universidad       Single    26   \n",
              "2              27099               Si     2.Universidad       Single    34   \n",
              "3              15055               Si     2.Universidad      Married    37   \n",
              "4             150550               No  3.Pos-graduación       Single    29   \n",
              "\n",
              "   Importe_de_la_factura  Importe_pagado  moroso  \n",
              "0               934.0122          0.0000       1  \n",
              "1               519.3975          0.0000       1  \n",
              "2              4223.5297        457.0698       0  \n",
              "3             14522.9563        602.2000       0  \n",
              "4            124060.1253      16560.5000       0  "
            ],
            "text/html": [
              "\n",
              "  <div id=\"df-878c740e-cce3-4608-9aa9-ae857ece9068\">\n",
              "    <div class=\"colab-df-container\">\n",
              "      <div>\n",
              "<style scoped>\n",
              "    .dataframe tbody tr th:only-of-type {\n",
              "        vertical-align: middle;\n",
              "    }\n",
              "\n",
              "    .dataframe tbody tr th {\n",
              "        vertical-align: top;\n",
              "    }\n",
              "\n",
              "    .dataframe thead th {\n",
              "        text-align: right;\n",
              "    }\n",
              "</style>\n",
              "<table border=\"1\" class=\"dataframe\">\n",
              "  <thead>\n",
              "    <tr style=\"text-align: right;\">\n",
              "      <th></th>\n",
              "      <th>Límite de crédito</th>\n",
              "      <th>cuenta_corriente</th>\n",
              "      <th>Educación</th>\n",
              "      <th>Estado_civil</th>\n",
              "      <th>Edad</th>\n",
              "      <th>Importe_de_la_factura</th>\n",
              "      <th>Importe_pagado</th>\n",
              "      <th>moroso</th>\n",
              "    </tr>\n",
              "  </thead>\n",
              "  <tbody>\n",
              "    <tr>\n",
              "      <th>0</th>\n",
              "      <td>6022</td>\n",
              "      <td>Si</td>\n",
              "      <td>2.Universidad</td>\n",
              "      <td>Married</td>\n",
              "      <td>24</td>\n",
              "      <td>934.0122</td>\n",
              "      <td>0.0000</td>\n",
              "      <td>1</td>\n",
              "    </tr>\n",
              "    <tr>\n",
              "      <th>1</th>\n",
              "      <td>36132</td>\n",
              "      <td>Si</td>\n",
              "      <td>2.Universidad</td>\n",
              "      <td>Single</td>\n",
              "      <td>26</td>\n",
              "      <td>519.3975</td>\n",
              "      <td>0.0000</td>\n",
              "      <td>1</td>\n",
              "    </tr>\n",
              "    <tr>\n",
              "      <th>2</th>\n",
              "      <td>27099</td>\n",
              "      <td>Si</td>\n",
              "      <td>2.Universidad</td>\n",
              "      <td>Single</td>\n",
              "      <td>34</td>\n",
              "      <td>4223.5297</td>\n",
              "      <td>457.0698</td>\n",
              "      <td>0</td>\n",
              "    </tr>\n",
              "    <tr>\n",
              "      <th>3</th>\n",
              "      <td>15055</td>\n",
              "      <td>Si</td>\n",
              "      <td>2.Universidad</td>\n",
              "      <td>Married</td>\n",
              "      <td>37</td>\n",
              "      <td>14522.9563</td>\n",
              "      <td>602.2000</td>\n",
              "      <td>0</td>\n",
              "    </tr>\n",
              "    <tr>\n",
              "      <th>4</th>\n",
              "      <td>150550</td>\n",
              "      <td>No</td>\n",
              "      <td>3.Pos-graduación</td>\n",
              "      <td>Single</td>\n",
              "      <td>29</td>\n",
              "      <td>124060.1253</td>\n",
              "      <td>16560.5000</td>\n",
              "      <td>0</td>\n",
              "    </tr>\n",
              "  </tbody>\n",
              "</table>\n",
              "</div>\n",
              "      <button class=\"colab-df-convert\" onclick=\"convertToInteractive('df-878c740e-cce3-4608-9aa9-ae857ece9068')\"\n",
              "              title=\"Convert this dataframe to an interactive table.\"\n",
              "              style=\"display:none;\">\n",
              "        \n",
              "  <svg xmlns=\"http://www.w3.org/2000/svg\" height=\"24px\"viewBox=\"0 0 24 24\"\n",
              "       width=\"24px\">\n",
              "    <path d=\"M0 0h24v24H0V0z\" fill=\"none\"/>\n",
              "    <path d=\"M18.56 5.44l.94 2.06.94-2.06 2.06-.94-2.06-.94-.94-2.06-.94 2.06-2.06.94zm-11 1L8.5 8.5l.94-2.06 2.06-.94-2.06-.94L8.5 2.5l-.94 2.06-2.06.94zm10 10l.94 2.06.94-2.06 2.06-.94-2.06-.94-.94-2.06-.94 2.06-2.06.94z\"/><path d=\"M17.41 7.96l-1.37-1.37c-.4-.4-.92-.59-1.43-.59-.52 0-1.04.2-1.43.59L10.3 9.45l-7.72 7.72c-.78.78-.78 2.05 0 2.83L4 21.41c.39.39.9.59 1.41.59.51 0 1.02-.2 1.41-.59l7.78-7.78 2.81-2.81c.8-.78.8-2.07 0-2.86zM5.41 20L4 18.59l7.72-7.72 1.47 1.35L5.41 20z\"/>\n",
              "  </svg>\n",
              "      </button>\n",
              "      \n",
              "  <style>\n",
              "    .colab-df-container {\n",
              "      display:flex;\n",
              "      flex-wrap:wrap;\n",
              "      gap: 12px;\n",
              "    }\n",
              "\n",
              "    .colab-df-convert {\n",
              "      background-color: #E8F0FE;\n",
              "      border: none;\n",
              "      border-radius: 50%;\n",
              "      cursor: pointer;\n",
              "      display: none;\n",
              "      fill: #1967D2;\n",
              "      height: 32px;\n",
              "      padding: 0 0 0 0;\n",
              "      width: 32px;\n",
              "    }\n",
              "\n",
              "    .colab-df-convert:hover {\n",
              "      background-color: #E2EBFA;\n",
              "      box-shadow: 0px 1px 2px rgba(60, 64, 67, 0.3), 0px 1px 3px 1px rgba(60, 64, 67, 0.15);\n",
              "      fill: #174EA6;\n",
              "    }\n",
              "\n",
              "    [theme=dark] .colab-df-convert {\n",
              "      background-color: #3B4455;\n",
              "      fill: #D2E3FC;\n",
              "    }\n",
              "\n",
              "    [theme=dark] .colab-df-convert:hover {\n",
              "      background-color: #434B5C;\n",
              "      box-shadow: 0px 1px 3px 1px rgba(0, 0, 0, 0.15);\n",
              "      filter: drop-shadow(0px 1px 2px rgba(0, 0, 0, 0.3));\n",
              "      fill: #FFFFFF;\n",
              "    }\n",
              "  </style>\n",
              "\n",
              "      <script>\n",
              "        const buttonEl =\n",
              "          document.querySelector('#df-878c740e-cce3-4608-9aa9-ae857ece9068 button.colab-df-convert');\n",
              "        buttonEl.style.display =\n",
              "          google.colab.kernel.accessAllowed ? 'block' : 'none';\n",
              "\n",
              "        async function convertToInteractive(key) {\n",
              "          const element = document.querySelector('#df-878c740e-cce3-4608-9aa9-ae857ece9068');\n",
              "          const dataTable =\n",
              "            await google.colab.kernel.invokeFunction('convertToInteractive',\n",
              "                                                     [key], {});\n",
              "          if (!dataTable) return;\n",
              "\n",
              "          const docLinkHtml = 'Like what you see? Visit the ' +\n",
              "            '<a target=\"_blank\" href=https://colab.research.google.com/notebooks/data_table.ipynb>data table notebook</a>'\n",
              "            + ' to learn more about interactive tables.';\n",
              "          element.innerHTML = '';\n",
              "          dataTable['output_type'] = 'display_data';\n",
              "          await google.colab.output.renderOutput(dataTable, element);\n",
              "          const docLink = document.createElement('div');\n",
              "          docLink.innerHTML = docLinkHtml;\n",
              "          element.appendChild(docLink);\n",
              "        }\n",
              "      </script>\n",
              "    </div>\n",
              "  </div>\n",
              "  "
            ]
          },
          "metadata": {},
          "execution_count": 89
        }
      ]
    },
    {
      "cell_type": "code",
      "source": [
        "tarjetas.Estado_civil.unique()"
      ],
      "metadata": {
        "colab": {
          "base_uri": "https://localhost:8080/"
        },
        "id": "mAumgacxA8g3",
        "outputId": "57964d58-badb-4816-f273-d42399a53713"
      },
      "execution_count": 90,
      "outputs": [
        {
          "output_type": "execute_result",
          "data": {
            "text/plain": [
              "array(['Married', 'Single'], dtype=object)"
            ]
          },
          "metadata": {},
          "execution_count": 90
        }
      ]
    },
    {
      "cell_type": "code",
      "source": [
        "dic_Estado_civil= {\n",
        "    'Married' : 'Casado', 'Single' : 'Soltero'\n",
        "}"
      ],
      "metadata": {
        "id": "JK9Aar1aBC8l"
      },
      "execution_count": 91,
      "outputs": []
    },
    {
      "cell_type": "code",
      "source": [
        "tarjetas.Estado_civil = tarjetas.Estado_civil.map(dic_Estado_civil)"
      ],
      "metadata": {
        "id": "nE8Wu757BdFN"
      },
      "execution_count": 92,
      "outputs": []
    },
    {
      "cell_type": "code",
      "source": [
        "tarjetas.head()"
      ],
      "metadata": {
        "colab": {
          "base_uri": "https://localhost:8080/",
          "height": 322
        },
        "id": "-rpb2mmoEie-",
        "outputId": "c049498f-9093-4f23-b338-22a2e2d0e775"
      },
      "execution_count": 93,
      "outputs": [
        {
          "output_type": "execute_result",
          "data": {
            "text/plain": [
              "   Límite de crédito cuenta_corriente         Educación Estado_civil  Edad  \\\n",
              "0               6022               Si     2.Universidad       Casado    24   \n",
              "1              36132               Si     2.Universidad      Soltero    26   \n",
              "2              27099               Si     2.Universidad      Soltero    34   \n",
              "3              15055               Si     2.Universidad       Casado    37   \n",
              "4             150550               No  3.Pos-graduación      Soltero    29   \n",
              "\n",
              "   Importe_de_la_factura  Importe_pagado  moroso  \n",
              "0               934.0122          0.0000       1  \n",
              "1               519.3975          0.0000       1  \n",
              "2              4223.5297        457.0698       0  \n",
              "3             14522.9563        602.2000       0  \n",
              "4            124060.1253      16560.5000       0  "
            ],
            "text/html": [
              "\n",
              "  <div id=\"df-16644bc8-6f1c-4243-a107-a2ac65926903\">\n",
              "    <div class=\"colab-df-container\">\n",
              "      <div>\n",
              "<style scoped>\n",
              "    .dataframe tbody tr th:only-of-type {\n",
              "        vertical-align: middle;\n",
              "    }\n",
              "\n",
              "    .dataframe tbody tr th {\n",
              "        vertical-align: top;\n",
              "    }\n",
              "\n",
              "    .dataframe thead th {\n",
              "        text-align: right;\n",
              "    }\n",
              "</style>\n",
              "<table border=\"1\" class=\"dataframe\">\n",
              "  <thead>\n",
              "    <tr style=\"text-align: right;\">\n",
              "      <th></th>\n",
              "      <th>Límite de crédito</th>\n",
              "      <th>cuenta_corriente</th>\n",
              "      <th>Educación</th>\n",
              "      <th>Estado_civil</th>\n",
              "      <th>Edad</th>\n",
              "      <th>Importe_de_la_factura</th>\n",
              "      <th>Importe_pagado</th>\n",
              "      <th>moroso</th>\n",
              "    </tr>\n",
              "  </thead>\n",
              "  <tbody>\n",
              "    <tr>\n",
              "      <th>0</th>\n",
              "      <td>6022</td>\n",
              "      <td>Si</td>\n",
              "      <td>2.Universidad</td>\n",
              "      <td>Casado</td>\n",
              "      <td>24</td>\n",
              "      <td>934.0122</td>\n",
              "      <td>0.0000</td>\n",
              "      <td>1</td>\n",
              "    </tr>\n",
              "    <tr>\n",
              "      <th>1</th>\n",
              "      <td>36132</td>\n",
              "      <td>Si</td>\n",
              "      <td>2.Universidad</td>\n",
              "      <td>Soltero</td>\n",
              "      <td>26</td>\n",
              "      <td>519.3975</td>\n",
              "      <td>0.0000</td>\n",
              "      <td>1</td>\n",
              "    </tr>\n",
              "    <tr>\n",
              "      <th>2</th>\n",
              "      <td>27099</td>\n",
              "      <td>Si</td>\n",
              "      <td>2.Universidad</td>\n",
              "      <td>Soltero</td>\n",
              "      <td>34</td>\n",
              "      <td>4223.5297</td>\n",
              "      <td>457.0698</td>\n",
              "      <td>0</td>\n",
              "    </tr>\n",
              "    <tr>\n",
              "      <th>3</th>\n",
              "      <td>15055</td>\n",
              "      <td>Si</td>\n",
              "      <td>2.Universidad</td>\n",
              "      <td>Casado</td>\n",
              "      <td>37</td>\n",
              "      <td>14522.9563</td>\n",
              "      <td>602.2000</td>\n",
              "      <td>0</td>\n",
              "    </tr>\n",
              "    <tr>\n",
              "      <th>4</th>\n",
              "      <td>150550</td>\n",
              "      <td>No</td>\n",
              "      <td>3.Pos-graduación</td>\n",
              "      <td>Soltero</td>\n",
              "      <td>29</td>\n",
              "      <td>124060.1253</td>\n",
              "      <td>16560.5000</td>\n",
              "      <td>0</td>\n",
              "    </tr>\n",
              "  </tbody>\n",
              "</table>\n",
              "</div>\n",
              "      <button class=\"colab-df-convert\" onclick=\"convertToInteractive('df-16644bc8-6f1c-4243-a107-a2ac65926903')\"\n",
              "              title=\"Convert this dataframe to an interactive table.\"\n",
              "              style=\"display:none;\">\n",
              "        \n",
              "  <svg xmlns=\"http://www.w3.org/2000/svg\" height=\"24px\"viewBox=\"0 0 24 24\"\n",
              "       width=\"24px\">\n",
              "    <path d=\"M0 0h24v24H0V0z\" fill=\"none\"/>\n",
              "    <path d=\"M18.56 5.44l.94 2.06.94-2.06 2.06-.94-2.06-.94-.94-2.06-.94 2.06-2.06.94zm-11 1L8.5 8.5l.94-2.06 2.06-.94-2.06-.94L8.5 2.5l-.94 2.06-2.06.94zm10 10l.94 2.06.94-2.06 2.06-.94-2.06-.94-.94-2.06-.94 2.06-2.06.94z\"/><path d=\"M17.41 7.96l-1.37-1.37c-.4-.4-.92-.59-1.43-.59-.52 0-1.04.2-1.43.59L10.3 9.45l-7.72 7.72c-.78.78-.78 2.05 0 2.83L4 21.41c.39.39.9.59 1.41.59.51 0 1.02-.2 1.41-.59l7.78-7.78 2.81-2.81c.8-.78.8-2.07 0-2.86zM5.41 20L4 18.59l7.72-7.72 1.47 1.35L5.41 20z\"/>\n",
              "  </svg>\n",
              "      </button>\n",
              "      \n",
              "  <style>\n",
              "    .colab-df-container {\n",
              "      display:flex;\n",
              "      flex-wrap:wrap;\n",
              "      gap: 12px;\n",
              "    }\n",
              "\n",
              "    .colab-df-convert {\n",
              "      background-color: #E8F0FE;\n",
              "      border: none;\n",
              "      border-radius: 50%;\n",
              "      cursor: pointer;\n",
              "      display: none;\n",
              "      fill: #1967D2;\n",
              "      height: 32px;\n",
              "      padding: 0 0 0 0;\n",
              "      width: 32px;\n",
              "    }\n",
              "\n",
              "    .colab-df-convert:hover {\n",
              "      background-color: #E2EBFA;\n",
              "      box-shadow: 0px 1px 2px rgba(60, 64, 67, 0.3), 0px 1px 3px 1px rgba(60, 64, 67, 0.15);\n",
              "      fill: #174EA6;\n",
              "    }\n",
              "\n",
              "    [theme=dark] .colab-df-convert {\n",
              "      background-color: #3B4455;\n",
              "      fill: #D2E3FC;\n",
              "    }\n",
              "\n",
              "    [theme=dark] .colab-df-convert:hover {\n",
              "      background-color: #434B5C;\n",
              "      box-shadow: 0px 1px 3px 1px rgba(0, 0, 0, 0.15);\n",
              "      filter: drop-shadow(0px 1px 2px rgba(0, 0, 0, 0.3));\n",
              "      fill: #FFFFFF;\n",
              "    }\n",
              "  </style>\n",
              "\n",
              "      <script>\n",
              "        const buttonEl =\n",
              "          document.querySelector('#df-16644bc8-6f1c-4243-a107-a2ac65926903 button.colab-df-convert');\n",
              "        buttonEl.style.display =\n",
              "          google.colab.kernel.accessAllowed ? 'block' : 'none';\n",
              "\n",
              "        async function convertToInteractive(key) {\n",
              "          const element = document.querySelector('#df-16644bc8-6f1c-4243-a107-a2ac65926903');\n",
              "          const dataTable =\n",
              "            await google.colab.kernel.invokeFunction('convertToInteractive',\n",
              "                                                     [key], {});\n",
              "          if (!dataTable) return;\n",
              "\n",
              "          const docLinkHtml = 'Like what you see? Visit the ' +\n",
              "            '<a target=\"_blank\" href=https://colab.research.google.com/notebooks/data_table.ipynb>data table notebook</a>'\n",
              "            + ' to learn more about interactive tables.';\n",
              "          element.innerHTML = '';\n",
              "          dataTable['output_type'] = 'display_data';\n",
              "          await google.colab.output.renderOutput(dataTable, element);\n",
              "          const docLink = document.createElement('div');\n",
              "          docLink.innerHTML = docLinkHtml;\n",
              "          element.appendChild(docLink);\n",
              "        }\n",
              "      </script>\n",
              "    </div>\n",
              "  </div>\n",
              "  "
            ]
          },
          "metadata": {},
          "execution_count": 93
        }
      ]
    },
    {
      "cell_type": "code",
      "source": [
        "!pip install seaborn"
      ],
      "metadata": {
        "colab": {
          "base_uri": "https://localhost:8080/"
        },
        "id": "A9mvoWIDEn0X",
        "outputId": "1f57bd26-3df6-4a2a-b68a-70cc251f759d"
      },
      "execution_count": 94,
      "outputs": [
        {
          "output_type": "stream",
          "name": "stdout",
          "text": [
            "Looking in indexes: https://pypi.org/simple, https://us-python.pkg.dev/colab-wheels/public/simple/\n",
            "Requirement already satisfied: seaborn in /usr/local/lib/python3.9/dist-packages (0.12.2)\n",
            "Requirement already satisfied: numpy!=1.24.0,>=1.17 in /usr/local/lib/python3.9/dist-packages (from seaborn) (1.22.4)\n",
            "Requirement already satisfied: matplotlib!=3.6.1,>=3.1 in /usr/local/lib/python3.9/dist-packages (from seaborn) (3.7.1)\n",
            "Requirement already satisfied: pandas>=0.25 in /usr/local/lib/python3.9/dist-packages (from seaborn) (1.5.3)\n",
            "Requirement already satisfied: cycler>=0.10 in /usr/local/lib/python3.9/dist-packages (from matplotlib!=3.6.1,>=3.1->seaborn) (0.11.0)\n",
            "Requirement already satisfied: importlib-resources>=3.2.0 in /usr/local/lib/python3.9/dist-packages (from matplotlib!=3.6.1,>=3.1->seaborn) (5.12.0)\n",
            "Requirement already satisfied: pillow>=6.2.0 in /usr/local/lib/python3.9/dist-packages (from matplotlib!=3.6.1,>=3.1->seaborn) (8.4.0)\n",
            "Requirement already satisfied: kiwisolver>=1.0.1 in /usr/local/lib/python3.9/dist-packages (from matplotlib!=3.6.1,>=3.1->seaborn) (1.4.4)\n",
            "Requirement already satisfied: pyparsing>=2.3.1 in /usr/local/lib/python3.9/dist-packages (from matplotlib!=3.6.1,>=3.1->seaborn) (3.0.9)\n",
            "Requirement already satisfied: contourpy>=1.0.1 in /usr/local/lib/python3.9/dist-packages (from matplotlib!=3.6.1,>=3.1->seaborn) (1.0.7)\n",
            "Requirement already satisfied: packaging>=20.0 in /usr/local/lib/python3.9/dist-packages (from matplotlib!=3.6.1,>=3.1->seaborn) (23.1)\n",
            "Requirement already satisfied: fonttools>=4.22.0 in /usr/local/lib/python3.9/dist-packages (from matplotlib!=3.6.1,>=3.1->seaborn) (4.39.3)\n",
            "Requirement already satisfied: python-dateutil>=2.7 in /usr/local/lib/python3.9/dist-packages (from matplotlib!=3.6.1,>=3.1->seaborn) (2.8.2)\n",
            "Requirement already satisfied: pytz>=2020.1 in /usr/local/lib/python3.9/dist-packages (from pandas>=0.25->seaborn) (2022.7.1)\n",
            "Requirement already satisfied: zipp>=3.1.0 in /usr/local/lib/python3.9/dist-packages (from importlib-resources>=3.2.0->matplotlib!=3.6.1,>=3.1->seaborn) (3.15.0)\n",
            "Requirement already satisfied: six>=1.5 in /usr/local/lib/python3.9/dist-packages (from python-dateutil>=2.7->matplotlib!=3.6.1,>=3.1->seaborn) (1.16.0)\n"
          ]
        }
      ]
    },
    {
      "cell_type": "markdown",
      "source": [
        "# Importando Seaborn"
      ],
      "metadata": {
        "id": "aL2IqXWUJD7T"
      }
    },
    {
      "cell_type": "code",
      "source": [
        "import seaborn as sns"
      ],
      "metadata": {
        "id": "HOPP02YaI3SA"
      },
      "execution_count": 95,
      "outputs": []
    },
    {
      "cell_type": "code",
      "source": [
        "!pip show seaborn"
      ],
      "metadata": {
        "colab": {
          "base_uri": "https://localhost:8080/"
        },
        "id": "DtbxQ8fSJQDY",
        "outputId": "ee959dff-cbea-4a5c-aded-393d6799b0c4"
      },
      "execution_count": 96,
      "outputs": [
        {
          "output_type": "stream",
          "name": "stdout",
          "text": [
            "Name: seaborn\n",
            "Version: 0.12.2\n",
            "Summary: Statistical data visualization\n",
            "Home-page: \n",
            "Author: \n",
            "Author-email: Michael Waskom <mwaskom@gmail.com>\n",
            "License: \n",
            "Location: /usr/local/lib/python3.9/dist-packages\n",
            "Requires: matplotlib, numpy, pandas\n",
            "Required-by: missingno\n"
          ]
        }
      ]
    },
    {
      "cell_type": "code",
      "source": [
        "tarjetas.shape"
      ],
      "metadata": {
        "colab": {
          "base_uri": "https://localhost:8080/"
        },
        "id": "JpUW28EGJeiQ",
        "outputId": "a71c53e1-044d-4a5d-ea0f-62879bc7d228"
      },
      "execution_count": 97,
      "outputs": [
        {
          "output_type": "execute_result",
          "data": {
            "text/plain": [
              "(1500, 8)"
            ]
          },
          "metadata": {},
          "execution_count": 97
        }
      ]
    },
    {
      "cell_type": "code",
      "source": [
        "tarjetas.head()"
      ],
      "metadata": {
        "colab": {
          "base_uri": "https://localhost:8080/",
          "height": 322
        },
        "id": "7WU1agatLX0Q",
        "outputId": "a4a1c8d1-66b0-4073-c759-1f58a2383775"
      },
      "execution_count": 98,
      "outputs": [
        {
          "output_type": "execute_result",
          "data": {
            "text/plain": [
              "   Límite de crédito cuenta_corriente         Educación Estado_civil  Edad  \\\n",
              "0               6022               Si     2.Universidad       Casado    24   \n",
              "1              36132               Si     2.Universidad      Soltero    26   \n",
              "2              27099               Si     2.Universidad      Soltero    34   \n",
              "3              15055               Si     2.Universidad       Casado    37   \n",
              "4             150550               No  3.Pos-graduación      Soltero    29   \n",
              "\n",
              "   Importe_de_la_factura  Importe_pagado  moroso  \n",
              "0               934.0122          0.0000       1  \n",
              "1               519.3975          0.0000       1  \n",
              "2              4223.5297        457.0698       0  \n",
              "3             14522.9563        602.2000       0  \n",
              "4            124060.1253      16560.5000       0  "
            ],
            "text/html": [
              "\n",
              "  <div id=\"df-742194aa-3edd-4bcf-bd3e-e1c7154f663b\">\n",
              "    <div class=\"colab-df-container\">\n",
              "      <div>\n",
              "<style scoped>\n",
              "    .dataframe tbody tr th:only-of-type {\n",
              "        vertical-align: middle;\n",
              "    }\n",
              "\n",
              "    .dataframe tbody tr th {\n",
              "        vertical-align: top;\n",
              "    }\n",
              "\n",
              "    .dataframe thead th {\n",
              "        text-align: right;\n",
              "    }\n",
              "</style>\n",
              "<table border=\"1\" class=\"dataframe\">\n",
              "  <thead>\n",
              "    <tr style=\"text-align: right;\">\n",
              "      <th></th>\n",
              "      <th>Límite de crédito</th>\n",
              "      <th>cuenta_corriente</th>\n",
              "      <th>Educación</th>\n",
              "      <th>Estado_civil</th>\n",
              "      <th>Edad</th>\n",
              "      <th>Importe_de_la_factura</th>\n",
              "      <th>Importe_pagado</th>\n",
              "      <th>moroso</th>\n",
              "    </tr>\n",
              "  </thead>\n",
              "  <tbody>\n",
              "    <tr>\n",
              "      <th>0</th>\n",
              "      <td>6022</td>\n",
              "      <td>Si</td>\n",
              "      <td>2.Universidad</td>\n",
              "      <td>Casado</td>\n",
              "      <td>24</td>\n",
              "      <td>934.0122</td>\n",
              "      <td>0.0000</td>\n",
              "      <td>1</td>\n",
              "    </tr>\n",
              "    <tr>\n",
              "      <th>1</th>\n",
              "      <td>36132</td>\n",
              "      <td>Si</td>\n",
              "      <td>2.Universidad</td>\n",
              "      <td>Soltero</td>\n",
              "      <td>26</td>\n",
              "      <td>519.3975</td>\n",
              "      <td>0.0000</td>\n",
              "      <td>1</td>\n",
              "    </tr>\n",
              "    <tr>\n",
              "      <th>2</th>\n",
              "      <td>27099</td>\n",
              "      <td>Si</td>\n",
              "      <td>2.Universidad</td>\n",
              "      <td>Soltero</td>\n",
              "      <td>34</td>\n",
              "      <td>4223.5297</td>\n",
              "      <td>457.0698</td>\n",
              "      <td>0</td>\n",
              "    </tr>\n",
              "    <tr>\n",
              "      <th>3</th>\n",
              "      <td>15055</td>\n",
              "      <td>Si</td>\n",
              "      <td>2.Universidad</td>\n",
              "      <td>Casado</td>\n",
              "      <td>37</td>\n",
              "      <td>14522.9563</td>\n",
              "      <td>602.2000</td>\n",
              "      <td>0</td>\n",
              "    </tr>\n",
              "    <tr>\n",
              "      <th>4</th>\n",
              "      <td>150550</td>\n",
              "      <td>No</td>\n",
              "      <td>3.Pos-graduación</td>\n",
              "      <td>Soltero</td>\n",
              "      <td>29</td>\n",
              "      <td>124060.1253</td>\n",
              "      <td>16560.5000</td>\n",
              "      <td>0</td>\n",
              "    </tr>\n",
              "  </tbody>\n",
              "</table>\n",
              "</div>\n",
              "      <button class=\"colab-df-convert\" onclick=\"convertToInteractive('df-742194aa-3edd-4bcf-bd3e-e1c7154f663b')\"\n",
              "              title=\"Convert this dataframe to an interactive table.\"\n",
              "              style=\"display:none;\">\n",
              "        \n",
              "  <svg xmlns=\"http://www.w3.org/2000/svg\" height=\"24px\"viewBox=\"0 0 24 24\"\n",
              "       width=\"24px\">\n",
              "    <path d=\"M0 0h24v24H0V0z\" fill=\"none\"/>\n",
              "    <path d=\"M18.56 5.44l.94 2.06.94-2.06 2.06-.94-2.06-.94-.94-2.06-.94 2.06-2.06.94zm-11 1L8.5 8.5l.94-2.06 2.06-.94-2.06-.94L8.5 2.5l-.94 2.06-2.06.94zm10 10l.94 2.06.94-2.06 2.06-.94-2.06-.94-.94-2.06-.94 2.06-2.06.94z\"/><path d=\"M17.41 7.96l-1.37-1.37c-.4-.4-.92-.59-1.43-.59-.52 0-1.04.2-1.43.59L10.3 9.45l-7.72 7.72c-.78.78-.78 2.05 0 2.83L4 21.41c.39.39.9.59 1.41.59.51 0 1.02-.2 1.41-.59l7.78-7.78 2.81-2.81c.8-.78.8-2.07 0-2.86zM5.41 20L4 18.59l7.72-7.72 1.47 1.35L5.41 20z\"/>\n",
              "  </svg>\n",
              "      </button>\n",
              "      \n",
              "  <style>\n",
              "    .colab-df-container {\n",
              "      display:flex;\n",
              "      flex-wrap:wrap;\n",
              "      gap: 12px;\n",
              "    }\n",
              "\n",
              "    .colab-df-convert {\n",
              "      background-color: #E8F0FE;\n",
              "      border: none;\n",
              "      border-radius: 50%;\n",
              "      cursor: pointer;\n",
              "      display: none;\n",
              "      fill: #1967D2;\n",
              "      height: 32px;\n",
              "      padding: 0 0 0 0;\n",
              "      width: 32px;\n",
              "    }\n",
              "\n",
              "    .colab-df-convert:hover {\n",
              "      background-color: #E2EBFA;\n",
              "      box-shadow: 0px 1px 2px rgba(60, 64, 67, 0.3), 0px 1px 3px 1px rgba(60, 64, 67, 0.15);\n",
              "      fill: #174EA6;\n",
              "    }\n",
              "\n",
              "    [theme=dark] .colab-df-convert {\n",
              "      background-color: #3B4455;\n",
              "      fill: #D2E3FC;\n",
              "    }\n",
              "\n",
              "    [theme=dark] .colab-df-convert:hover {\n",
              "      background-color: #434B5C;\n",
              "      box-shadow: 0px 1px 3px 1px rgba(0, 0, 0, 0.15);\n",
              "      filter: drop-shadow(0px 1px 2px rgba(0, 0, 0, 0.3));\n",
              "      fill: #FFFFFF;\n",
              "    }\n",
              "  </style>\n",
              "\n",
              "      <script>\n",
              "        const buttonEl =\n",
              "          document.querySelector('#df-742194aa-3edd-4bcf-bd3e-e1c7154f663b button.colab-df-convert');\n",
              "        buttonEl.style.display =\n",
              "          google.colab.kernel.accessAllowed ? 'block' : 'none';\n",
              "\n",
              "        async function convertToInteractive(key) {\n",
              "          const element = document.querySelector('#df-742194aa-3edd-4bcf-bd3e-e1c7154f663b');\n",
              "          const dataTable =\n",
              "            await google.colab.kernel.invokeFunction('convertToInteractive',\n",
              "                                                     [key], {});\n",
              "          if (!dataTable) return;\n",
              "\n",
              "          const docLinkHtml = 'Like what you see? Visit the ' +\n",
              "            '<a target=\"_blank\" href=https://colab.research.google.com/notebooks/data_table.ipynb>data table notebook</a>'\n",
              "            + ' to learn more about interactive tables.';\n",
              "          element.innerHTML = '';\n",
              "          dataTable['output_type'] = 'display_data';\n",
              "          await google.colab.output.renderOutput(dataTable, element);\n",
              "          const docLink = document.createElement('div');\n",
              "          docLink.innerHTML = docLinkHtml;\n",
              "          element.appendChild(docLink);\n",
              "        }\n",
              "      </script>\n",
              "    </div>\n",
              "  </div>\n",
              "  "
            ]
          },
          "metadata": {},
          "execution_count": 98
        }
      ]
    },
    {
      "cell_type": "code",
      "source": [
        "sns.displot(data=tarjetas, x='Límite de crédito');"
      ],
      "metadata": {
        "colab": {
          "base_uri": "https://localhost:8080/",
          "height": 506
        },
        "id": "VUqLenleLapR",
        "outputId": "ec845393-5159-4d9d-8987-136c5c2d5265"
      },
      "execution_count": 99,
      "outputs": [
        {
          "output_type": "display_data",
          "data": {
            "text/plain": [
              "<Figure size 500x500 with 1 Axes>"
            ],
            "image/png": "[encoded data removed]"
          },
          "metadata": {}
        }
      ]
    },
    {
      "cell_type": "code",
      "source": [
        "sns.displot(data=tarjetas, y='Edad', x='Límite de crédito', hue='Educación');"
      ],
      "metadata": {
        "colab": {
          "base_uri": "https://localhost:8080/",
          "height": 507
        },
        "id": "qc7kVr3lMIHH",
        "outputId": "1e0a8c1d-639e-4af3-e847-338c8b3001a4"
      },
      "execution_count": 100,
      "outputs": [
        {
          "output_type": "display_data",
          "data": {
            "text/plain": [
              "<Figure size 669.75x500 with 1 Axes>"
            ],
            "image/png": "[encoded data removed]"
          },
          "metadata": {}
        }
      ]
    },
    {
      "cell_type": "code",
      "source": [
        "sns.displot(data=tarjetas, y='Edad', x='Límite de crédito', hue='Educación')"
      ],
      "metadata": {
        "colab": {
          "base_uri": "https://localhost:8080/",
          "height": 525
        },
        "outputId": "8eaec653-db15-42bb-8b10-5a1fb96312cd",
        "id": "DST0TPCoNI3y"
      },
      "execution_count": 101,
      "outputs": [
        {
          "output_type": "execute_result",
          "data": {
            "text/plain": [
              "<seaborn.axisgrid.FacetGrid at 0x7fc10a3c3f10>"
            ]
          },
          "metadata": {},
          "execution_count": 101
        },
        {
          "output_type": "display_data",
          "data": {
            "text/plain": [
              "<Figure size 669.75x500 with 1 Axes>"
            ],
            "image/png": "[encoded data removed]"
          },
          "metadata": {}
        }
      ]
    },
    {
      "cell_type": "code",
      "source": [
        "sns.barplot(data=tarjetas, x='Edad', y='Límite de crédito')"
      ],
      "metadata": {
        "colab": {
          "base_uri": "https://localhost:8080/",
          "height": 467
        },
        "id": "nXtf0DP_NQ64",
        "outputId": "5d2d140a-3a83-46cc-d7bd-78e46ea37fee"
      },
      "execution_count": 102,
      "outputs": [
        {
          "output_type": "execute_result",
          "data": {
            "text/plain": [
              "<Axes: xlabel='Edad', ylabel='Límite de crédito'>"
            ]
          },
          "metadata": {},
          "execution_count": 102
        },
        {
          "output_type": "display_data",
          "data": {
            "text/plain": [
              "<Figure size 640x480 with 1 Axes>"
            ],
            "image/png": "[encoded data removed]"
          },
          "metadata": {}
        }
      ]
    },
    {
      "cell_type": "markdown",
      "source": [
        "# Analisis 2"
      ],
      "metadata": {
        "id": "m1zjvbdiV7IF"
      }
    },
    {
      "cell_type": "code",
      "source": [
        "tarjetas['iu'] = tarjetas['Importe_de_la_factura']/tarjetas['Límite de crédito']"
      ],
      "metadata": {
        "id": "8oliaFbpWLij"
      },
      "execution_count": 103,
      "outputs": []
    },
    {
      "cell_type": "code",
      "source": [
        "sns.displot(data=tarjetas, x='iu')"
      ],
      "metadata": {
        "colab": {
          "base_uri": "https://localhost:8080/",
          "height": 525
        },
        "id": "f0bxecK2W7pc",
        "outputId": "f120777e-3c12-4b22-b224-1ba17ffce6dd"
      },
      "execution_count": 104,
      "outputs": [
        {
          "output_type": "execute_result",
          "data": {
            "text/plain": [
              "<seaborn.axisgrid.FacetGrid at 0x7fc10a6468b0>"
            ]
          },
          "metadata": {},
          "execution_count": 104
        },
        {
          "output_type": "display_data",
          "data": {
            "text/plain": [
              "<Figure size 500x500 with 1 Axes>"
            ],
            "image/png": "[encoded data removed]"
          },
          "metadata": {}
        }
      ]
    },
    {
      "cell_type": "markdown",
      "source": [
        "# ESTILOS Y COLORES"
      ],
      "metadata": {
        "id": "qJyWA6Wm62Hg"
      }
    },
    {
      "cell_type": "code",
      "source": [
        "sns.set_style('whitegrid')"
      ],
      "metadata": {
        "id": "Yi-lrP5E6z1Y"
      },
      "execution_count": 105,
      "outputs": []
    },
    {
      "cell_type": "code",
      "source": [
        "sns.displot(data=tarjetas, x='Límite de crédito', hue='Educación');"
      ],
      "metadata": {
        "colab": {
          "base_uri": "https://localhost:8080/",
          "height": 506
        },
        "id": "g9vB00Fb7LeI",
        "outputId": "b7063028-92cb-42d8-fc3a-bd5f1d4e9862"
      },
      "execution_count": 106,
      "outputs": [
        {
          "output_type": "display_data",
          "data": {
            "text/plain": [
              "<Figure size 669.75x500 with 1 Axes>"
            ],
            "image/png": "[encoded data removed]"
          },
          "metadata": {}
        }
      ]
    },
    {
      "cell_type": "code",
      "source": [
        "sns.set_style('darkgrid')"
      ],
      "metadata": {
        "id": "k4jQtSGn8SIQ"
      },
      "execution_count": 107,
      "outputs": []
    },
    {
      "cell_type": "code",
      "source": [
        "sns.displot(data=tarjetas, x='Límite de crédito', hue='Educación');"
      ],
      "metadata": {
        "colab": {
          "base_uri": "https://localhost:8080/",
          "height": 506
        },
        "id": "1R2uAmUF8bfh",
        "outputId": "b3b3408e-db9c-4fa9-a434-3f81e1482c7b"
      },
      "execution_count": 108,
      "outputs": [
        {
          "output_type": "display_data",
          "data": {
            "text/plain": [
              "<Figure size 669.75x500 with 1 Axes>"
            ],
            "image/png": "[encoded data removed]"
          },
          "metadata": {}
        }
      ]
    },
    {
      "cell_type": "code",
      "source": [
        "sns.displot(data=tarjetas, x='Límite de crédito', hue='Educación', palette='inferno_r');"
      ],
      "metadata": {
        "id": "wN4FY-Hk8hA5",
        "colab": {
          "base_uri": "https://localhost:8080/",
          "height": 506
        },
        "outputId": "6020038a-0b38-41c7-ba89-2bce0859d64e"
      },
      "execution_count": 109,
      "outputs": [
        {
          "output_type": "display_data",
          "data": {
            "text/plain": [
              "<Figure size 669.75x500 with 1 Axes>"
            ],
            "image/png": "[encoded data removed]"
          },
          "metadata": {}
        }
      ]
    },
    {
      "cell_type": "markdown",
      "source": [
        "#Analisis Variables Categóricas"
      ],
      "metadata": {
        "id": "6DZ84bp9-aS2"
      }
    },
    {
      "cell_type": "code",
      "source": [
        "sns.countplot(data=tarjetas, x='cuenta_corriente');"
      ],
      "metadata": {
        "colab": {
          "base_uri": "https://localhost:8080/",
          "height": 450
        },
        "id": "rY2kMFXg-Lgn",
        "outputId": "cd8f054b-aa62-44f2-a477-6712f8b2121f"
      },
      "execution_count": 110,
      "outputs": [
        {
          "output_type": "display_data",
          "data": {
            "text/plain": [
              "<Figure size 640x480 with 1 Axes>"
            ],
            "image/png": "[encoded data removed]"
          },
          "metadata": {}
        }
      ]
    },
    {
      "cell_type": "code",
      "source": [
        "tarjetas.head\n"
      ],
      "metadata": {
        "colab": {
          "base_uri": "https://localhost:8080/"
        },
        "id": "iVizTKpEA9Co",
        "outputId": "468b1fda-174b-4381-aa59-45adad6af793"
      },
      "execution_count": 111,
      "outputs": [
        {
          "output_type": "execute_result",
          "data": {
            "text/plain": [
              "<bound method NDFrame.head of       Límite de crédito cuenta_corriente         Educación Estado_civil  Edad  \\\n",
              "0                  6022               Si     2.Universidad       Casado    24   \n",
              "1                 36132               Si     2.Universidad      Soltero    26   \n",
              "2                 27099               Si     2.Universidad      Soltero    34   \n",
              "3                 15055               Si     2.Universidad       Casado    37   \n",
              "4                150550               No  3.Pos-graduación      Soltero    29   \n",
              "...                 ...              ...               ...          ...   ...   \n",
              "1495              54198               Si  3.Pos-graduación      Soltero    27   \n",
              "1496              45165               No     2.Universidad       Casado    55   \n",
              "1497              78286               No  3.Pos-graduación      Soltero    34   \n",
              "1498               6022               No     2.Universidad       Casado    44   \n",
              "1499             183671               No  3.Pos-graduación      Soltero    31   \n",
              "\n",
              "      Importe_de_la_factura  Importe_pagado  moroso        iu  \n",
              "0                  934.0122          0.0000       1  0.155100  \n",
              "1                  519.3975          0.0000       1  0.014375  \n",
              "2                 4223.5297        457.0698       0  0.155856  \n",
              "3                14522.9563        602.2000       0  0.964660  \n",
              "4               124060.1253      16560.5000       0  0.824046  \n",
              "...                     ...             ...     ...       ...  \n",
              "1495               295.0780          0.0000       1  0.005444  \n",
              "1496             23637.8555       1144.1800       0  0.523367  \n",
              "1497               962.9178        962.9178       0  0.012300  \n",
              "1498               864.7592        864.7592       0  0.143600  \n",
              "1499             97022.8508      97022.8508       0  0.528243  \n",
              "\n",
              "[1500 rows x 9 columns]>"
            ]
          },
          "metadata": {},
          "execution_count": 111
        }
      ]
    },
    {
      "cell_type": "code",
      "source": [
        "sns.countplot(data=tarjetas, x='cuenta_corriente', hue='moroso');"
      ],
      "metadata": {
        "colab": {
          "base_uri": "https://localhost:8080/",
          "height": 450
        },
        "id": "Ya8O03xHAXOL",
        "outputId": "21cd476b-059c-42ab-c93a-a0e17018d1bf"
      },
      "execution_count": 114,
      "outputs": [
        {
          "output_type": "display_data",
          "data": {
            "text/plain": [
              "<Figure size 640x480 with 1 Axes>"
            ],
            "image/png": "[encoded data removed]"
          },
          "metadata": {}
        }
      ]
    }
  ]
}